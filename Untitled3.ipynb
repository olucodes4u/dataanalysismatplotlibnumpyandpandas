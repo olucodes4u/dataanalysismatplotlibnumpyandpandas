{
 "cells": [
  {
   "cell_type": "code",
   "execution_count": 2,
   "id": "ced80836-0f7e-458b-8285-708c90a201ca",
   "metadata": {},
   "outputs": [],
   "source": [
    "import numpy as np"
   ]
  },
  {
   "cell_type": "code",
   "execution_count": 18,
   "id": "77e813cc-19b9-4d25-b75e-3dfbb282e7c3",
   "metadata": {},
   "outputs": [
    {
     "data": {
      "text/plain": [
       "array([1, 2, 3, 4, 5, 6])"
      ]
     },
     "execution_count": 18,
     "metadata": {},
     "output_type": "execute_result"
    }
   ],
   "source": [
    "a=np.array([1,2,3,4,5,6])\n",
    "a"
   ]
  },
  {
   "cell_type": "code",
   "execution_count": 20,
   "id": "0e9699c2-759b-4b9b-957f-360e7e0ac1d6",
   "metadata": {},
   "outputs": [
    {
     "name": "stdout",
     "output_type": "stream",
     "text": [
      "[1 2 3 4 5 6 7]\n"
     ]
    }
   ],
   "source": [
    "a=np.array([1,2,3,4,5,6,7])\n",
    "print(a)"
   ]
  },
  {
   "cell_type": "code",
   "execution_count": 8,
   "id": "a5125211-3e2f-4fb7-ac1e-b0e1997a1c3c",
   "metadata": {},
   "outputs": [
    {
     "data": {
      "text/plain": [
       "1"
      ]
     },
     "execution_count": 8,
     "metadata": {},
     "output_type": "execute_result"
    }
   ],
   "source": [
    "a[0]"
   ]
  },
  {
   "cell_type": "code",
   "execution_count": 22,
   "id": "d44e20a9-564c-491b-a412-20b9543233a8",
   "metadata": {},
   "outputs": [
    {
     "data": {
      "text/plain": [
       "5"
      ]
     },
     "execution_count": 22,
     "metadata": {},
     "output_type": "execute_result"
    }
   ],
   "source": [
    "a[4]"
   ]
  },
  {
   "cell_type": "code",
   "execution_count": null,
   "id": "6c9d8062-a569-4f29-af25-8b6abf0ceb42",
   "metadata": {},
   "outputs": [],
   "source": [
    "import time\n",
    "import sys"
   ]
  },
  {
   "cell_type": "code",
   "execution_count": 26,
   "id": "5c79fa8e-6be4-4d57-9ee9-a0970497c24f",
   "metadata": {},
   "outputs": [
    {
     "name": "stdout",
     "output_type": "stream",
     "text": [
      "28000\n"
     ]
    }
   ],
   "source": [
    "import sys\n",
    "\n",
    "b = range(1000)\n",
    "print(sys.getsizeof(5) * len(b))\n"
   ]
  },
  {
   "cell_type": "code",
   "execution_count": 28,
   "id": "b12d7627-9301-494a-a756-92d468e073e3",
   "metadata": {},
   "outputs": [
    {
     "name": "stdout",
     "output_type": "stream",
     "text": [
      "8000\n"
     ]
    }
   ],
   "source": [
    "c = np.arange(1000)\n",
    "print(c.size*c.itemsize)"
   ]
  },
  {
   "cell_type": "code",
   "execution_count": 30,
   "id": "a264b5ac-03f9-4074-b3ce-c84b8a8a5f88",
   "metadata": {},
   "outputs": [
    {
     "data": {
      "text/plain": [
       "array([[1, 2],\n",
       "       [3, 4],\n",
       "       [5, 6]])"
      ]
     },
     "execution_count": 30,
     "metadata": {},
     "output_type": "execute_result"
    }
   ],
   "source": [
    "a = np.array([[1,2],[3,4],[5,6]])\n",
    "a"
   ]
  },
  {
   "cell_type": "code",
   "execution_count": 32,
   "id": "67c5cd3b-987c-4b90-adb1-d8a59297040c",
   "metadata": {},
   "outputs": [
    {
     "data": {
      "text/plain": [
       "2"
      ]
     },
     "execution_count": 32,
     "metadata": {},
     "output_type": "execute_result"
    }
   ],
   "source": [
    "a.ndim"
   ]
  },
  {
   "cell_type": "code",
   "execution_count": 34,
   "id": "990bf17b-1ce6-4cde-a2f3-4ae448c25865",
   "metadata": {},
   "outputs": [
    {
     "data": {
      "text/plain": [
       "8"
      ]
     },
     "execution_count": 34,
     "metadata": {},
     "output_type": "execute_result"
    }
   ],
   "source": [
    "a.itemsize"
   ]
  },
  {
   "cell_type": "code",
   "execution_count": 36,
   "id": "0ab8c1c9-f055-4649-bd43-6f9fc4659b51",
   "metadata": {},
   "outputs": [
    {
     "data": {
      "text/plain": [
       "(3, 2)"
      ]
     },
     "execution_count": 36,
     "metadata": {},
     "output_type": "execute_result"
    }
   ],
   "source": [
    "a.shape"
   ]
  },
  {
   "cell_type": "code",
   "execution_count": 38,
   "id": "f23bd2bf-176d-4c4a-b31b-f53af3d971d2",
   "metadata": {},
   "outputs": [
    {
     "data": {
      "text/plain": [
       "array([[1., 2.],\n",
       "       [3., 4.],\n",
       "       [5., 6.]])"
      ]
     },
     "execution_count": 38,
     "metadata": {},
     "output_type": "execute_result"
    }
   ],
   "source": [
    "a = np.array([[1,2],[3,4],[5,6]], dtype=np.float64)\n",
    "a"
   ]
  },
  {
   "cell_type": "code",
   "execution_count": 40,
   "id": "6f0759f5-9c97-4570-8200-3abe7342be14",
   "metadata": {},
   "outputs": [
    {
     "data": {
      "text/plain": [
       "8"
      ]
     },
     "execution_count": 40,
     "metadata": {},
     "output_type": "execute_result"
    }
   ],
   "source": [
    "a.itemsize"
   ]
  },
  {
   "cell_type": "code",
   "execution_count": 42,
   "id": "abc685e7-205c-401c-aec3-2dd8183f9961",
   "metadata": {},
   "outputs": [
    {
     "data": {
      "text/plain": [
       "2"
      ]
     },
     "execution_count": 42,
     "metadata": {},
     "output_type": "execute_result"
    }
   ],
   "source": [
    "a.ndim"
   ]
  },
  {
   "cell_type": "code",
   "execution_count": 46,
   "id": "60b5796f-a6de-4603-86f8-ca2f2e12ecf1",
   "metadata": {},
   "outputs": [
    {
     "data": {
      "text/plain": [
       "array([[1.+0.j, 2.+0.j],\n",
       "       [3.+0.j, 4.+0.j],\n",
       "       [5.+0.j, 6.+0.j]])"
      ]
     },
     "execution_count": 46,
     "metadata": {},
     "output_type": "execute_result"
    }
   ],
   "source": [
    "a = np.array([[1,2],[3,4],[5,6]], dtype=np.complex128)\n",
    "a"
   ]
  },
  {
   "cell_type": "code",
   "execution_count": 4,
   "id": "8974e885-a6fb-40bd-92f5-d9e0bd408a3b",
   "metadata": {},
   "outputs": [
    {
     "name": "stdout",
     "output_type": "stream",
     "text": [
      "concatenation example:\n",
      "['helloabc' 'h1xyz']\n"
     ]
    }
   ],
   "source": [
    "import numpy as np\n",
    "print('concatenation example:')\n",
    "print(np.char.add(['hello','h1'],['abc','xyz']))"
   ]
  },
  {
   "cell_type": "code",
   "execution_count": 6,
   "id": "3f68b87f-1a3d-460d-90c8-78de10c59006",
   "metadata": {},
   "outputs": [
    {
     "name": "stdout",
     "output_type": "stream",
     "text": [
      "HelloHelloHello\n"
     ]
    }
   ],
   "source": [
    "print(np.char.multiply('Hello', 3))"
   ]
  },
  {
   "cell_type": "code",
   "execution_count": 8,
   "id": "ad4f2353-909a-46fb-9364-4d8b494a119a",
   "metadata": {},
   "outputs": [
    {
     "name": "stdout",
     "output_type": "stream",
     "text": [
      "-------Hello--------\n"
     ]
    }
   ],
   "source": [
    "print(np.char.center('Hello', 20,fillchar = '-'))"
   ]
  },
  {
   "cell_type": "code",
   "execution_count": 10,
   "id": "738e71a9-22db-4aae-8f32-9a71fb6862d1",
   "metadata": {},
   "outputs": [
    {
     "name": "stdout",
     "output_type": "stream",
     "text": [
      "Hello there\n"
     ]
    }
   ],
   "source": [
    "print(np.char.capitalize('hello there'))"
   ]
  },
  {
   "cell_type": "code",
   "execution_count": 12,
   "id": "f19ca010-cbd4-4872-8a3e-814a591f4325",
   "metadata": {},
   "outputs": [
    {
     "name": "stdout",
     "output_type": "stream",
     "text": [
      "How Are You My Friend\n"
     ]
    }
   ],
   "source": [
    "print(np.char.title('how are you my friend'))"
   ]
  },
  {
   "cell_type": "code",
   "execution_count": 14,
   "id": "681ec744-488a-44a9-b53e-847f7fca480c",
   "metadata": {},
   "outputs": [
    {
     "name": "stdout",
     "output_type": "stream",
     "text": [
      "['hello' 'friend']\n",
      "hello\n"
     ]
    }
   ],
   "source": [
    "print(np.char.lower(['HELLO', 'FRIEND']))\n",
    "print(np.char.lower('HELLO'))"
   ]
  },
  {
   "cell_type": "code",
   "execution_count": 18,
   "id": "bc377ff1-4514-4b00-93b4-aeb4b945151c",
   "metadata": {},
   "outputs": [
    {
     "name": "stdout",
     "output_type": "stream",
     "text": [
      "['PYTHON' 'DATA']\n",
      "PYTHON IS EASY\n"
     ]
    }
   ],
   "source": [
    "print(np.char.upper(['python', 'data']))\n",
    "print(np.char.upper('python is easy'))"
   ]
  },
  {
   "cell_type": "code",
   "execution_count": 20,
   "id": "798fb21d-1e7b-4ea3-9be7-1e8be2caf3f3",
   "metadata": {},
   "outputs": [
    {
     "name": "stdout",
     "output_type": "stream",
     "text": [
      "['God', 'has', 'been', 'so', 'gracious', 'to', 'me', 'and', 'my', 'family']\n"
     ]
    }
   ],
   "source": [
    "print(np.char.split('God has been so gracious to me and my family'))"
   ]
  },
  {
   "cell_type": "code",
   "execution_count": 24,
   "id": "764c2603-b479-49c4-a703-39f3034e79a7",
   "metadata": {},
   "outputs": [
    {
     "name": "stdout",
     "output_type": "stream",
     "text": [
      "['hello', 'how are you?']\n"
     ]
    }
   ],
   "source": [
    "print(np.char.splitlines('hello\\nhow are you?'))"
   ]
  },
  {
   "cell_type": "code",
   "execution_count": 32,
   "id": "f265c584-6972-47ec-8926-fa7765f54356",
   "metadata": {},
   "outputs": [
    {
     "name": "stdout",
     "output_type": "stream",
     "text": [
      "['ol' 'fol' 'muyiwa']\n"
     ]
    }
   ],
   "source": [
    "print(np.char.strip(['olu', 'folu', 'muyiwa'], 'u'))"
   ]
  },
  {
   "cell_type": "code",
   "execution_count": 34,
   "id": "18381699-cb75-48a6-a3a8-4540d7d8df43",
   "metadata": {},
   "outputs": [
    {
     "name": "stdout",
     "output_type": "stream",
     "text": [
      "['d:m:y' 'y-m-d']\n"
     ]
    }
   ],
   "source": [
    "print(np.char.join([':','-'], ['dmy','ymd']))"
   ]
  },
  {
   "cell_type": "code",
   "execution_count": 36,
   "id": "3857e75b-1b06-4d45-b096-a8aa1db4157e",
   "metadata": {},
   "outputs": [
    {
     "name": "stdout",
     "output_type": "stream",
     "text": [
      "He was a good dancer\n"
     ]
    }
   ],
   "source": [
    "print(np.char.replace('He is a good dancer', 'is', 'was'))"
   ]
  },
  {
   "cell_type": "code",
   "execution_count": null,
   "id": "9da6a3e2-66d6-4053-bb19-db18ac6a63f9",
   "metadata": {},
   "outputs": [],
   "source": []
  }
 ],
 "metadata": {
  "kernelspec": {
   "display_name": "Python 3 (ipykernel)",
   "language": "python",
   "name": "python3"
  },
  "language_info": {
   "codemirror_mode": {
    "name": "ipython",
    "version": 3
   },
   "file_extension": ".py",
   "mimetype": "text/x-python",
   "name": "python",
   "nbconvert_exporter": "python",
   "pygments_lexer": "ipython3",
   "version": "3.11.7"
  }
 },
 "nbformat": 4,
 "nbformat_minor": 5
}
